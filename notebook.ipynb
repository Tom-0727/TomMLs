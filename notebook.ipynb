{
 "cells": [
  {
   "cell_type": "markdown",
   "metadata": {},
   "source": [
    "# Data Loading & Operations"
   ]
  },
  {
   "cell_type": "markdown",
   "metadata": {},
   "source": [
    "## Dataframe"
   ]
  },
  {
   "cell_type": "code",
   "execution_count": 112,
   "metadata": {},
   "outputs": [
    {
     "name": "stdout",
     "output_type": "stream",
     "text": [
      "   playerid     fname    lname        position height  weight    birthday  \\\n",
      "0   1630173  Precious  Achiuwa         Forward    6-8     225  1999-09-19   \n",
      "1    203500    Steven    Adams          Center   6-11     265  1993-07-20   \n",
      "2   1628389       Bam  Adebayo  Center-Forward    6-9     255  1997-07-18   \n",
      "3   1630534     Ochai   Agbaji           Guard    6-5     215  2000-04-20   \n",
      "4   1630583     Santi   Aldama  Forward-Center    7-0     215  2001-01-10   \n",
      "\n",
      "       country           school  draft_year  draft_round  draft_number  \n",
      "0      Nigeria          Memphis        2020          1.0          20.0  \n",
      "1  New Zealand       Pittsburgh        2013          1.0          12.0  \n",
      "2          USA         Kentucky        2017          1.0          14.0  \n",
      "3          USA           Kansas        2022          1.0          14.0  \n",
      "4        Spain  Loyola-Maryland        2021          1.0          30.0  \n",
      "---\n",
      "(548, 12)\n"
     ]
    }
   ],
   "source": [
    "import pandas as pd\n",
    "\n",
    "dataframe = pd.read_csv('./nba_players_data/players.csv')\n",
    "print(dataframe.head())\n",
    "print('---')\n",
    "print(dataframe.shape)"
   ]
  },
  {
   "cell_type": "code",
   "execution_count": 113,
   "metadata": {},
   "outputs": [
    {
     "name": "stdout",
     "output_type": "stream",
     "text": [
      "                  playerid        position  height  weight\n",
      "name                                                      \n",
      "Precious Achiuwa   1630173         Forward  2.0320     225\n",
      "Steven Adams        203500          Center  2.1082     265\n",
      "Bam Adebayo        1628389  Center-Forward  2.0574     255\n",
      "Ochai Agbaji       1630534           Guard  1.9558     215\n",
      "Santi Aldama       1630583  Forward-Center  2.1336     215\n",
      "---\n",
      "(548, 4)\n"
     ]
    }
   ],
   "source": [
    "import numpy as np\n",
    "\n",
    "dataframe['name'] = dataframe['fname'] + ' ' + dataframe['lname']\n",
    "dataframe.drop(columns=['lname', 'fname', 'birthday', 'country', 'school', 'draft_year', 'draft_round', 'draft_number'], inplace=True)\n",
    "dataframe.set_index('name', inplace=True)\n",
    "dataframe.dropna(axis=0, inplace=True)\n",
    "\n",
    "def convert_height_to_cm(height: str) -> float:\n",
    "    feet, inch = [float(item) for item in height.split('-')]\n",
    "    height_cm = feet * 30.48 + inch * 2.54\n",
    "    return height_cm/100.0\n",
    "\n",
    "dataframe['height'] = [convert_height_to_cm(height) for height in dataframe['height']]\n",
    "print(dataframe.head())\n",
    "print('---')\n",
    "print(dataframe.shape)"
   ]
  },
  {
   "cell_type": "code",
   "execution_count": null,
   "metadata": {},
   "outputs": [],
   "source": [
    "# Add\n",
    "dataframe['luck_point'] = np.random.rand(548)\n",
    "print(dataframe.head())"
   ]
  },
  {
   "cell_type": "code",
   "execution_count": null,
   "metadata": {},
   "outputs": [],
   "source": [
    "dataframe.sort_values('luck_point', key=lambda x: x, ascending=False)"
   ]
  },
  {
   "cell_type": "code",
   "execution_count": 52,
   "metadata": {},
   "outputs": [
    {
     "name": "stdout",
     "output_type": "stream",
     "text": [
      "(548, 2)\n",
      "mean    250.0\n",
      "sum     250.0\n",
      "Name: LeBron James, dtype: float64\n"
     ]
    }
   ],
   "source": [
    "df2 = dataframe.groupby('name')['weight'].agg(['mean', 'sum'])\n",
    "print(df2.shape)\n",
    "print(df2.loc['LeBron James'])"
   ]
  },
  {
   "cell_type": "markdown",
   "metadata": {},
   "source": [
    "## Data Visualization"
   ]
  },
  {
   "cell_type": "code",
   "execution_count": 53,
   "metadata": {},
   "outputs": [],
   "source": [
    "import matplotlib.pyplot as plt"
   ]
  },
  {
   "cell_type": "code",
   "execution_count": 126,
   "metadata": {},
   "outputs": [
    {
     "name": "stdout",
     "output_type": "stream",
     "text": [
      "    height        mean\n",
      "19  2.2352  290.000000\n",
      "18  2.2098  240.000000\n",
      "17  2.1844  241.250000\n",
      "16  2.1590  250.833333\n",
      "15  2.1336  242.962963\n",
      "---\n",
      "(20, 2)\n",
      "---\n",
      "<class 'pandas.core.frame.DataFrame'>\n"
     ]
    }
   ],
   "source": [
    "\n",
    "h_w_df = dataframe.groupby('height')['weight'].agg(['mean'])\n",
    "h_w_df.reset_index(inplace=True)\n",
    "h_w_df.sort_values('height', ascending=False, inplace=True, key=lambda x: x)\n",
    "print(h_w_df.head())\n",
    "print('---')\n",
    "print(h_w_df.shape)\n",
    "print('---')\n",
    "print(type(h_w_df))"
   ]
  },
  {
   "cell_type": "code",
   "execution_count": 127,
   "metadata": {},
   "outputs": [
    {
     "data": {
      "image/png": "[encoded data removed]",
      "text/plain": [
       "<Figure size 640x480 with 1 Axes>"
      ]
     },
     "metadata": {},
     "output_type": "display_data"
    }
   ],
   "source": [
    "h_w_df.plot(x='height', y='mean', kind='scatter', grid=True)\n",
    "plt.show()"
   ]
  },
  {
   "cell_type": "markdown",
   "metadata": {},
   "source": [
    "# Machine Learning"
   ]
  },
  {
   "cell_type": "markdown",
   "metadata": {},
   "source": [
    "## 1"
   ]
  },
  {
   "cell_type": "code",
   "execution_count": null,
   "metadata": {},
   "outputs": [],
   "source": []
  },
  {
   "cell_type": "markdown",
   "metadata": {},
   "source": [
    "## 2"
   ]
  }
 ],
 "metadata": {
  "kernelspec": {
   "display_name": "ml",
   "language": "python",
   "name": "python3"
  },
  "language_info": {
   "codemirror_mode": {
    "name": "ipython",
    "version": 3
   },
   "file_extension": ".py",
   "mimetype": "text/x-python",
   "name": "python",
   "nbconvert_exporter": "python",
   "pygments_lexer": "ipython3",
   "version": "3.11.4"
  },
  "orig_nbformat": 4
 },
 "nbformat": 4,
 "nbformat_minor": 2
}
